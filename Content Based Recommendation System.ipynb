{
 "cells": [
  {
   "cell_type": "code",
   "execution_count": 56,
   "id": "98a8658b",
   "metadata": {},
   "outputs": [],
   "source": [
    "import pandas as pd\n",
    "import numpy as np\n",
    "import matplotlib.pyplot as plt"
   ]
  },
  {
   "cell_type": "markdown",
   "id": "d69df488",
   "metadata": {},
   "source": [
    "Import my preprocessed data into two dataframes, the one that has readable information such as name, publisher, year of release etc, and the other one that is only used for computation"
   ]
  },
  {
   "cell_type": "code",
   "execution_count": 7,
   "id": "5f5b0f15",
   "metadata": {},
   "outputs": [],
   "source": [
    "readable_data = pd.read_csv(\"readable.csv\")\n",
    "data = pd.read_csv(\"out.csv\")"
   ]
  },
  {
   "cell_type": "code",
   "execution_count": 10,
   "id": "0cb44ff4",
   "metadata": {
    "scrolled": true
   },
   "outputs": [
    {
     "data": {
      "text/html": [
       "<div>\n",
       "<style scoped>\n",
       "    .dataframe tbody tr th:only-of-type {\n",
       "        vertical-align: middle;\n",
       "    }\n",
       "\n",
       "    .dataframe tbody tr th {\n",
       "        vertical-align: top;\n",
       "    }\n",
       "\n",
       "    .dataframe thead th {\n",
       "        text-align: right;\n",
       "    }\n",
       "</style>\n",
       "<table border=\"1\" class=\"dataframe\">\n",
       "  <thead>\n",
       "    <tr style=\"text-align: right;\">\n",
       "      <th></th>\n",
       "      <th>Unnamed: 0</th>\n",
       "      <th>name</th>\n",
       "      <th>release_date</th>\n",
       "      <th>developer</th>\n",
       "      <th>publisher</th>\n",
       "      <th>popular_tags</th>\n",
       "      <th>game_details</th>\n",
       "      <th>languages</th>\n",
       "      <th>achievements</th>\n",
       "      <th>genre</th>\n",
       "      <th>game_description</th>\n",
       "      <th>mature_content</th>\n",
       "      <th>minimum_requirements</th>\n",
       "      <th>recommended_requirements</th>\n",
       "      <th>original_price</th>\n",
       "      <th>discount_price</th>\n",
       "      <th>recent_review_class</th>\n",
       "      <th>recent_review_score</th>\n",
       "      <th>all_review_class</th>\n",
       "      <th>all_review_score</th>\n",
       "    </tr>\n",
       "  </thead>\n",
       "  <tbody>\n",
       "    <tr>\n",
       "      <th>0</th>\n",
       "      <td>0</td>\n",
       "      <td>DOOM</td>\n",
       "      <td>May 12, 2016</td>\n",
       "      <td>id Software</td>\n",
       "      <td>Bethesda Softworks,Bethesda Softworks</td>\n",
       "      <td>FPS,Gore,Action,Demons,Shooter,First-Person,Gr...</td>\n",
       "      <td>Single-player,Multi-player,Co-op,Steam Achieve...</td>\n",
       "      <td>English,French,Italian,German,Spanish - Spain,...</td>\n",
       "      <td>54.0</td>\n",
       "      <td>Action</td>\n",
       "      <td>About This Game Developed by id software, the...</td>\n",
       "      <td>NaN</td>\n",
       "      <td>Minimum:,OS:,Windows 7/8.1/10 (64-bit versions...</td>\n",
       "      <td>Recommended:,OS:,Windows 7/8.1/10 (64-bit vers...</td>\n",
       "      <td>$19.99</td>\n",
       "      <td>$14.99</td>\n",
       "      <td>Very Positive</td>\n",
       "      <td>89.0</td>\n",
       "      <td>Very Positive</td>\n",
       "      <td>92.0</td>\n",
       "    </tr>\n",
       "    <tr>\n",
       "      <th>1</th>\n",
       "      <td>1</td>\n",
       "      <td>PLAYERUNKNOWN'S BATTLEGROUNDS</td>\n",
       "      <td>Dec 21, 2017</td>\n",
       "      <td>PUBG Corporation</td>\n",
       "      <td>PUBG Corporation,PUBG Corporation</td>\n",
       "      <td>Survival,Shooter,Multiplayer,Battle Royale,PvP...</td>\n",
       "      <td>Multi-player,Online Multi-Player,Stats</td>\n",
       "      <td>English,Korean,Simplified Chinese,French,Germa...</td>\n",
       "      <td>37.0</td>\n",
       "      <td>Action,Adventure,Massively Multiplayer</td>\n",
       "      <td>About This Game  PLAYERUNKNOWN'S BATTLEGROUND...</td>\n",
       "      <td>Mature Content Description  The developers de...</td>\n",
       "      <td>Minimum:,Requires a 64-bit processor and opera...</td>\n",
       "      <td>Recommended:,Requires a 64-bit processor and o...</td>\n",
       "      <td>$29.99</td>\n",
       "      <td>NaN</td>\n",
       "      <td>Mixed</td>\n",
       "      <td>49.0</td>\n",
       "      <td>Mixed</td>\n",
       "      <td>49.0</td>\n",
       "    </tr>\n",
       "    <tr>\n",
       "      <th>2</th>\n",
       "      <td>2</td>\n",
       "      <td>BATTLETECH</td>\n",
       "      <td>Apr 24, 2018</td>\n",
       "      <td>Harebrained Schemes</td>\n",
       "      <td>Paradox Interactive,Paradox Interactive</td>\n",
       "      <td>Mechs,Strategy,Turn-Based,Turn-Based Tactics,S...</td>\n",
       "      <td>Single-player,Multi-player,Online Multi-Player...</td>\n",
       "      <td>English,French,German,Russian</td>\n",
       "      <td>128.0</td>\n",
       "      <td>Action,Adventure,Strategy</td>\n",
       "      <td>About This Game  From original BATTLETECH/Mec...</td>\n",
       "      <td>NaN</td>\n",
       "      <td>Minimum:,Requires a 64-bit processor and opera...</td>\n",
       "      <td>Recommended:,Requires a 64-bit processor and o...</td>\n",
       "      <td>$39.99</td>\n",
       "      <td>NaN</td>\n",
       "      <td>Mixed</td>\n",
       "      <td>54.0</td>\n",
       "      <td>Mostly Positive</td>\n",
       "      <td>71.0</td>\n",
       "    </tr>\n",
       "    <tr>\n",
       "      <th>3</th>\n",
       "      <td>3</td>\n",
       "      <td>DayZ</td>\n",
       "      <td>Dec 13, 2018</td>\n",
       "      <td>Bohemia Interactive</td>\n",
       "      <td>Bohemia Interactive,Bohemia Interactive</td>\n",
       "      <td>Survival,Zombies,Open World,Multiplayer,PvP,Ma...</td>\n",
       "      <td>Multi-player,Online Multi-Player,Steam Worksho...</td>\n",
       "      <td>English,French,Italian,German,Spanish - Spain,...</td>\n",
       "      <td>NaN</td>\n",
       "      <td>Action,Adventure,Massively Multiplayer</td>\n",
       "      <td>About This Game The post-soviet country of Ch...</td>\n",
       "      <td>NaN</td>\n",
       "      <td>Minimum:,OS:,Windows 7/8.1 64-bit,Processor:,I...</td>\n",
       "      <td>Recommended:,OS:,Windows 10 64-bit,Processor:,...</td>\n",
       "      <td>$44.99</td>\n",
       "      <td>NaN</td>\n",
       "      <td>Mixed</td>\n",
       "      <td>57.0</td>\n",
       "      <td>Mixed</td>\n",
       "      <td>61.0</td>\n",
       "    </tr>\n",
       "    <tr>\n",
       "      <th>4</th>\n",
       "      <td>4</td>\n",
       "      <td>EVE Online</td>\n",
       "      <td>May 6, 2003</td>\n",
       "      <td>CCP</td>\n",
       "      <td>CCP,CCP</td>\n",
       "      <td>Space,Massively Multiplayer,Sci-fi,Sandbox,MMO...</td>\n",
       "      <td>Multi-player,Online Multi-Player,MMO,Co-op,Onl...</td>\n",
       "      <td>English,German,Russian,French</td>\n",
       "      <td>NaN</td>\n",
       "      <td>Action,Free to Play,Massively Multiplayer,RPG,...</td>\n",
       "      <td>About This Game</td>\n",
       "      <td>NaN</td>\n",
       "      <td>Minimum:,OS:,Windows 7,Processor:,Intel Dual C...</td>\n",
       "      <td>Recommended:,OS:,Windows 10,Processor:,Intel i...</td>\n",
       "      <td>$0</td>\n",
       "      <td>NaN</td>\n",
       "      <td>Mixed</td>\n",
       "      <td>54.0</td>\n",
       "      <td>Mostly Positive</td>\n",
       "      <td>74.0</td>\n",
       "    </tr>\n",
       "  </tbody>\n",
       "</table>\n",
       "</div>"
      ],
      "text/plain": [
       "   Unnamed: 0                           name  release_date  \\\n",
       "0           0                           DOOM  May 12, 2016   \n",
       "1           1  PLAYERUNKNOWN'S BATTLEGROUNDS  Dec 21, 2017   \n",
       "2           2                     BATTLETECH  Apr 24, 2018   \n",
       "3           3                           DayZ  Dec 13, 2018   \n",
       "4           4                     EVE Online   May 6, 2003   \n",
       "\n",
       "             developer                                publisher  \\\n",
       "0          id Software    Bethesda Softworks,Bethesda Softworks   \n",
       "1     PUBG Corporation        PUBG Corporation,PUBG Corporation   \n",
       "2  Harebrained Schemes  Paradox Interactive,Paradox Interactive   \n",
       "3  Bohemia Interactive  Bohemia Interactive,Bohemia Interactive   \n",
       "4                  CCP                                  CCP,CCP   \n",
       "\n",
       "                                        popular_tags  \\\n",
       "0  FPS,Gore,Action,Demons,Shooter,First-Person,Gr...   \n",
       "1  Survival,Shooter,Multiplayer,Battle Royale,PvP...   \n",
       "2  Mechs,Strategy,Turn-Based,Turn-Based Tactics,S...   \n",
       "3  Survival,Zombies,Open World,Multiplayer,PvP,Ma...   \n",
       "4  Space,Massively Multiplayer,Sci-fi,Sandbox,MMO...   \n",
       "\n",
       "                                        game_details  \\\n",
       "0  Single-player,Multi-player,Co-op,Steam Achieve...   \n",
       "1             Multi-player,Online Multi-Player,Stats   \n",
       "2  Single-player,Multi-player,Online Multi-Player...   \n",
       "3  Multi-player,Online Multi-Player,Steam Worksho...   \n",
       "4  Multi-player,Online Multi-Player,MMO,Co-op,Onl...   \n",
       "\n",
       "                                           languages  achievements  \\\n",
       "0  English,French,Italian,German,Spanish - Spain,...          54.0   \n",
       "1  English,Korean,Simplified Chinese,French,Germa...          37.0   \n",
       "2                      English,French,German,Russian         128.0   \n",
       "3  English,French,Italian,German,Spanish - Spain,...           NaN   \n",
       "4                      English,German,Russian,French           NaN   \n",
       "\n",
       "                                               genre  \\\n",
       "0                                             Action   \n",
       "1             Action,Adventure,Massively Multiplayer   \n",
       "2                          Action,Adventure,Strategy   \n",
       "3             Action,Adventure,Massively Multiplayer   \n",
       "4  Action,Free to Play,Massively Multiplayer,RPG,...   \n",
       "\n",
       "                                    game_description  \\\n",
       "0   About This Game Developed by id software, the...   \n",
       "1   About This Game  PLAYERUNKNOWN'S BATTLEGROUND...   \n",
       "2   About This Game  From original BATTLETECH/Mec...   \n",
       "3   About This Game The post-soviet country of Ch...   \n",
       "4                                  About This Game     \n",
       "\n",
       "                                      mature_content  \\\n",
       "0                                                NaN   \n",
       "1   Mature Content Description  The developers de...   \n",
       "2                                                NaN   \n",
       "3                                                NaN   \n",
       "4                                                NaN   \n",
       "\n",
       "                                minimum_requirements  \\\n",
       "0  Minimum:,OS:,Windows 7/8.1/10 (64-bit versions...   \n",
       "1  Minimum:,Requires a 64-bit processor and opera...   \n",
       "2  Minimum:,Requires a 64-bit processor and opera...   \n",
       "3  Minimum:,OS:,Windows 7/8.1 64-bit,Processor:,I...   \n",
       "4  Minimum:,OS:,Windows 7,Processor:,Intel Dual C...   \n",
       "\n",
       "                            recommended_requirements original_price  \\\n",
       "0  Recommended:,OS:,Windows 7/8.1/10 (64-bit vers...         $19.99   \n",
       "1  Recommended:,Requires a 64-bit processor and o...         $29.99   \n",
       "2  Recommended:,Requires a 64-bit processor and o...         $39.99   \n",
       "3  Recommended:,OS:,Windows 10 64-bit,Processor:,...         $44.99   \n",
       "4  Recommended:,OS:,Windows 10,Processor:,Intel i...             $0   \n",
       "\n",
       "  discount_price recent_review_class  recent_review_score all_review_class  \\\n",
       "0         $14.99       Very Positive                 89.0    Very Positive   \n",
       "1            NaN               Mixed                 49.0            Mixed   \n",
       "2            NaN               Mixed                 54.0  Mostly Positive   \n",
       "3            NaN               Mixed                 57.0            Mixed   \n",
       "4            NaN               Mixed                 54.0  Mostly Positive   \n",
       "\n",
       "   all_review_score  \n",
       "0              92.0  \n",
       "1              49.0  \n",
       "2              71.0  \n",
       "3              61.0  \n",
       "4              74.0  "
      ]
     },
     "execution_count": 10,
     "metadata": {},
     "output_type": "execute_result"
    }
   ],
   "source": [
    "readable_data.head()"
   ]
  },
  {
   "cell_type": "code",
   "execution_count": 9,
   "id": "a073afd9",
   "metadata": {},
   "outputs": [
    {
     "data": {
      "text/html": [
       "<div>\n",
       "<style scoped>\n",
       "    .dataframe tbody tr th:only-of-type {\n",
       "        vertical-align: middle;\n",
       "    }\n",
       "\n",
       "    .dataframe tbody tr th {\n",
       "        vertical-align: top;\n",
       "    }\n",
       "\n",
       "    .dataframe thead th {\n",
       "        text-align: right;\n",
       "    }\n",
       "</style>\n",
       "<table border=\"1\" class=\"dataframe\">\n",
       "  <thead>\n",
       "    <tr style=\"text-align: right;\">\n",
       "      <th></th>\n",
       "      <th>Unnamed: 0</th>\n",
       "      <th>action</th>\n",
       "      <th>adventure</th>\n",
       "      <th>massively multiplayer</th>\n",
       "      <th>strategy</th>\n",
       "      <th>free to play</th>\n",
       "      <th>rpg</th>\n",
       "      <th>indie</th>\n",
       "      <th>early access</th>\n",
       "      <th>simulation</th>\n",
       "      <th>...</th>\n",
       "      <th>gaming</th>\n",
       "      <th>foreign</th>\n",
       "      <th>snowboarding</th>\n",
       "      <th>skiing</th>\n",
       "      <th>solitaire</th>\n",
       "      <th>pool</th>\n",
       "      <th>documentary</th>\n",
       "      <th>word game</th>\n",
       "      <th>feature film</th>\n",
       "      <th>spelling</th>\n",
       "    </tr>\n",
       "  </thead>\n",
       "  <tbody>\n",
       "    <tr>\n",
       "      <th>0</th>\n",
       "      <td>0</td>\n",
       "      <td>1</td>\n",
       "      <td>0</td>\n",
       "      <td>0</td>\n",
       "      <td>0</td>\n",
       "      <td>0</td>\n",
       "      <td>0</td>\n",
       "      <td>0</td>\n",
       "      <td>0</td>\n",
       "      <td>0</td>\n",
       "      <td>...</td>\n",
       "      <td>0</td>\n",
       "      <td>0</td>\n",
       "      <td>0</td>\n",
       "      <td>0</td>\n",
       "      <td>0</td>\n",
       "      <td>0</td>\n",
       "      <td>0</td>\n",
       "      <td>0</td>\n",
       "      <td>0</td>\n",
       "      <td>0</td>\n",
       "    </tr>\n",
       "    <tr>\n",
       "      <th>1</th>\n",
       "      <td>1</td>\n",
       "      <td>1</td>\n",
       "      <td>1</td>\n",
       "      <td>1</td>\n",
       "      <td>0</td>\n",
       "      <td>0</td>\n",
       "      <td>0</td>\n",
       "      <td>0</td>\n",
       "      <td>0</td>\n",
       "      <td>0</td>\n",
       "      <td>...</td>\n",
       "      <td>0</td>\n",
       "      <td>0</td>\n",
       "      <td>0</td>\n",
       "      <td>0</td>\n",
       "      <td>0</td>\n",
       "      <td>0</td>\n",
       "      <td>0</td>\n",
       "      <td>0</td>\n",
       "      <td>0</td>\n",
       "      <td>0</td>\n",
       "    </tr>\n",
       "    <tr>\n",
       "      <th>2</th>\n",
       "      <td>2</td>\n",
       "      <td>1</td>\n",
       "      <td>1</td>\n",
       "      <td>0</td>\n",
       "      <td>1</td>\n",
       "      <td>0</td>\n",
       "      <td>0</td>\n",
       "      <td>0</td>\n",
       "      <td>0</td>\n",
       "      <td>0</td>\n",
       "      <td>...</td>\n",
       "      <td>0</td>\n",
       "      <td>0</td>\n",
       "      <td>0</td>\n",
       "      <td>0</td>\n",
       "      <td>0</td>\n",
       "      <td>0</td>\n",
       "      <td>0</td>\n",
       "      <td>0</td>\n",
       "      <td>0</td>\n",
       "      <td>0</td>\n",
       "    </tr>\n",
       "    <tr>\n",
       "      <th>3</th>\n",
       "      <td>3</td>\n",
       "      <td>1</td>\n",
       "      <td>1</td>\n",
       "      <td>1</td>\n",
       "      <td>0</td>\n",
       "      <td>0</td>\n",
       "      <td>0</td>\n",
       "      <td>0</td>\n",
       "      <td>0</td>\n",
       "      <td>0</td>\n",
       "      <td>...</td>\n",
       "      <td>0</td>\n",
       "      <td>0</td>\n",
       "      <td>0</td>\n",
       "      <td>0</td>\n",
       "      <td>0</td>\n",
       "      <td>0</td>\n",
       "      <td>0</td>\n",
       "      <td>0</td>\n",
       "      <td>0</td>\n",
       "      <td>0</td>\n",
       "    </tr>\n",
       "    <tr>\n",
       "      <th>4</th>\n",
       "      <td>4</td>\n",
       "      <td>1</td>\n",
       "      <td>0</td>\n",
       "      <td>1</td>\n",
       "      <td>1</td>\n",
       "      <td>1</td>\n",
       "      <td>1</td>\n",
       "      <td>0</td>\n",
       "      <td>0</td>\n",
       "      <td>0</td>\n",
       "      <td>...</td>\n",
       "      <td>0</td>\n",
       "      <td>0</td>\n",
       "      <td>0</td>\n",
       "      <td>0</td>\n",
       "      <td>0</td>\n",
       "      <td>0</td>\n",
       "      <td>0</td>\n",
       "      <td>0</td>\n",
       "      <td>0</td>\n",
       "      <td>0</td>\n",
       "    </tr>\n",
       "  </tbody>\n",
       "</table>\n",
       "<p>5 rows × 380 columns</p>\n",
       "</div>"
      ],
      "text/plain": [
       "   Unnamed: 0  action  adventure  massively multiplayer  strategy  \\\n",
       "0           0       1          0                      0         0   \n",
       "1           1       1          1                      1         0   \n",
       "2           2       1          1                      0         1   \n",
       "3           3       1          1                      1         0   \n",
       "4           4       1          0                      1         1   \n",
       "\n",
       "   free to play  rpg  indie  early access  simulation  ...  gaming  foreign  \\\n",
       "0             0    0      0             0           0  ...       0        0   \n",
       "1             0    0      0             0           0  ...       0        0   \n",
       "2             0    0      0             0           0  ...       0        0   \n",
       "3             0    0      0             0           0  ...       0        0   \n",
       "4             1    1      0             0           0  ...       0        0   \n",
       "\n",
       "   snowboarding  skiing  solitaire  pool  documentary  word game  \\\n",
       "0             0       0          0     0            0          0   \n",
       "1             0       0          0     0            0          0   \n",
       "2             0       0          0     0            0          0   \n",
       "3             0       0          0     0            0          0   \n",
       "4             0       0          0     0            0          0   \n",
       "\n",
       "   feature film  spelling  \n",
       "0             0         0  \n",
       "1             0         0  \n",
       "2             0         0  \n",
       "3             0         0  \n",
       "4             0         0  \n",
       "\n",
       "[5 rows x 380 columns]"
      ]
     },
     "execution_count": 9,
     "metadata": {},
     "output_type": "execute_result"
    }
   ],
   "source": [
    "data.head()"
   ]
  },
  {
   "cell_type": "markdown",
   "id": "d82feebd",
   "metadata": {},
   "source": [
    "Now let's use cosine similartiy to compare items."
   ]
  },
  {
   "cell_type": "code",
   "execution_count": 4,
   "id": "58fde575",
   "metadata": {},
   "outputs": [],
   "source": [
    "from sklearn.metrics.pairwise import cosine_similarity"
   ]
  },
  {
   "cell_type": "code",
   "execution_count": 5,
   "id": "35d31d40",
   "metadata": {},
   "outputs": [],
   "source": [
    "similarity_matrix = cosine_similarity(data)"
   ]
  },
  {
   "cell_type": "code",
   "execution_count": 11,
   "id": "a3c2f8e7",
   "metadata": {},
   "outputs": [
    {
     "data": {
      "text/plain": [
       "array([[1.00000000e+00, 3.41565026e-01, 3.11804782e-01, ...,\n",
       "        5.34454787e-06, 5.34441699e-06, 0.00000000e+00],\n",
       "       [3.41565026e-01, 1.00000000e+00, 3.19504825e-01, ...,\n",
       "        2.23617750e-01, 2.23612274e-01, 2.23612274e-01],\n",
       "       [3.11804782e-01, 3.19504825e-01, 1.00000000e+00, ...,\n",
       "        4.08258288e-01, 4.08253290e-01, 4.08253289e-01],\n",
       "       ...,\n",
       "       [5.34454787e-06, 2.23617750e-01, 4.08258288e-01, ...,\n",
       "        1.00000000e+00, 9.99999997e-01, 9.99999997e-01],\n",
       "       [5.34441699e-06, 2.23612274e-01, 4.08253290e-01, ...,\n",
       "        9.99999997e-01, 1.00000000e+00, 9.99999999e-01],\n",
       "       [0.00000000e+00, 2.23612274e-01, 4.08253289e-01, ...,\n",
       "        9.99999997e-01, 9.99999999e-01, 1.00000000e+00]])"
      ]
     },
     "execution_count": 11,
     "metadata": {},
     "output_type": "execute_result"
    }
   ],
   "source": [
    "similarity_matrix"
   ]
  },
  {
   "cell_type": "code",
   "execution_count": 13,
   "id": "cae04e08",
   "metadata": {},
   "outputs": [],
   "source": [
    "cosine_similarity_df = pd.DataFrame(similarity_matrix)"
   ]
  },
  {
   "cell_type": "code",
   "execution_count": 64,
   "id": "a5fb4d9e",
   "metadata": {},
   "outputs": [
    {
     "data": {
      "text/plain": [
       "0        0.341565\n",
       "1        1.000000\n",
       "2        0.319505\n",
       "3        0.526235\n",
       "4        0.377964\n",
       "           ...   \n",
       "38018    0.223607\n",
       "38019    0.223607\n",
       "38020    0.223618\n",
       "38021    0.223612\n",
       "38022    0.223612\n",
       "Name: 1, Length: 38023, dtype: float64"
      ]
     },
     "execution_count": 64,
     "metadata": {},
     "output_type": "execute_result"
    }
   ],
   "source": [
    "cosine_similarity_df.loc[1]"
   ]
  },
  {
   "cell_type": "code",
   "execution_count": 91,
   "id": "06be7068",
   "metadata": {},
   "outputs": [
    {
     "data": {
      "text/html": [
       "<div>\n",
       "<style scoped>\n",
       "    .dataframe tbody tr th:only-of-type {\n",
       "        vertical-align: middle;\n",
       "    }\n",
       "\n",
       "    .dataframe tbody tr th {\n",
       "        vertical-align: top;\n",
       "    }\n",
       "\n",
       "    .dataframe thead th {\n",
       "        text-align: right;\n",
       "    }\n",
       "</style>\n",
       "<table border=\"1\" class=\"dataframe\">\n",
       "  <thead>\n",
       "    <tr style=\"text-align: right;\">\n",
       "      <th></th>\n",
       "      <th>0</th>\n",
       "      <th>1</th>\n",
       "      <th>2</th>\n",
       "      <th>3</th>\n",
       "      <th>4</th>\n",
       "      <th>5</th>\n",
       "      <th>6</th>\n",
       "      <th>7</th>\n",
       "      <th>8</th>\n",
       "      <th>9</th>\n",
       "      <th>...</th>\n",
       "      <th>38013</th>\n",
       "      <th>38014</th>\n",
       "      <th>38015</th>\n",
       "      <th>38016</th>\n",
       "      <th>38017</th>\n",
       "      <th>38018</th>\n",
       "      <th>38019</th>\n",
       "      <th>38020</th>\n",
       "      <th>38021</th>\n",
       "      <th>38022</th>\n",
       "    </tr>\n",
       "  </thead>\n",
       "  <tbody>\n",
       "    <tr>\n",
       "      <th>38018</th>\n",
       "      <td>0.000000</td>\n",
       "      <td>0.223607</td>\n",
       "      <td>0.408248</td>\n",
       "      <td>0.588348</td>\n",
       "      <td>0.676123</td>\n",
       "      <td>0.801784</td>\n",
       "      <td>0.842701</td>\n",
       "      <td>0.878114</td>\n",
       "      <td>0.913812</td>\n",
       "      <td>0.916698</td>\n",
       "      <td>...</td>\n",
       "      <td>1.0</td>\n",
       "      <td>1.0</td>\n",
       "      <td>1.0</td>\n",
       "      <td>1.0</td>\n",
       "      <td>1.0</td>\n",
       "      <td>1.0</td>\n",
       "      <td>1.0</td>\n",
       "      <td>1.0</td>\n",
       "      <td>1.0</td>\n",
       "      <td>1.0</td>\n",
       "    </tr>\n",
       "    <tr>\n",
       "      <th>38019</th>\n",
       "      <td>0.000000</td>\n",
       "      <td>0.223607</td>\n",
       "      <td>0.408248</td>\n",
       "      <td>0.588348</td>\n",
       "      <td>0.676123</td>\n",
       "      <td>0.801784</td>\n",
       "      <td>0.842701</td>\n",
       "      <td>0.878114</td>\n",
       "      <td>0.913812</td>\n",
       "      <td>0.916698</td>\n",
       "      <td>...</td>\n",
       "      <td>1.0</td>\n",
       "      <td>1.0</td>\n",
       "      <td>1.0</td>\n",
       "      <td>1.0</td>\n",
       "      <td>1.0</td>\n",
       "      <td>1.0</td>\n",
       "      <td>1.0</td>\n",
       "      <td>1.0</td>\n",
       "      <td>1.0</td>\n",
       "      <td>1.0</td>\n",
       "    </tr>\n",
       "    <tr>\n",
       "      <th>38020</th>\n",
       "      <td>0.000005</td>\n",
       "      <td>0.223618</td>\n",
       "      <td>0.408258</td>\n",
       "      <td>0.588353</td>\n",
       "      <td>0.676132</td>\n",
       "      <td>0.801784</td>\n",
       "      <td>0.842707</td>\n",
       "      <td>0.878117</td>\n",
       "      <td>0.913821</td>\n",
       "      <td>0.916716</td>\n",
       "      <td>...</td>\n",
       "      <td>1.0</td>\n",
       "      <td>1.0</td>\n",
       "      <td>1.0</td>\n",
       "      <td>1.0</td>\n",
       "      <td>1.0</td>\n",
       "      <td>1.0</td>\n",
       "      <td>1.0</td>\n",
       "      <td>1.0</td>\n",
       "      <td>1.0</td>\n",
       "      <td>1.0</td>\n",
       "    </tr>\n",
       "    <tr>\n",
       "      <th>38021</th>\n",
       "      <td>0.000005</td>\n",
       "      <td>0.223612</td>\n",
       "      <td>0.408253</td>\n",
       "      <td>0.588353</td>\n",
       "      <td>0.676128</td>\n",
       "      <td>0.801787</td>\n",
       "      <td>0.842701</td>\n",
       "      <td>0.878114</td>\n",
       "      <td>0.913814</td>\n",
       "      <td>0.916698</td>\n",
       "      <td>...</td>\n",
       "      <td>1.0</td>\n",
       "      <td>1.0</td>\n",
       "      <td>1.0</td>\n",
       "      <td>1.0</td>\n",
       "      <td>1.0</td>\n",
       "      <td>1.0</td>\n",
       "      <td>1.0</td>\n",
       "      <td>1.0</td>\n",
       "      <td>1.0</td>\n",
       "      <td>1.0</td>\n",
       "    </tr>\n",
       "    <tr>\n",
       "      <th>38022</th>\n",
       "      <td>0.000000</td>\n",
       "      <td>0.223612</td>\n",
       "      <td>0.408253</td>\n",
       "      <td>0.588353</td>\n",
       "      <td>0.676128</td>\n",
       "      <td>0.801784</td>\n",
       "      <td>0.842704</td>\n",
       "      <td>0.878114</td>\n",
       "      <td>0.913817</td>\n",
       "      <td>0.916703</td>\n",
       "      <td>...</td>\n",
       "      <td>1.0</td>\n",
       "      <td>1.0</td>\n",
       "      <td>1.0</td>\n",
       "      <td>1.0</td>\n",
       "      <td>1.0</td>\n",
       "      <td>1.0</td>\n",
       "      <td>1.0</td>\n",
       "      <td>1.0</td>\n",
       "      <td>1.0</td>\n",
       "      <td>1.0</td>\n",
       "    </tr>\n",
       "  </tbody>\n",
       "</table>\n",
       "<p>5 rows × 38023 columns</p>\n",
       "</div>"
      ],
      "text/plain": [
       "          0         1         2         3         4         5         6      \\\n",
       "38018  0.000000  0.223607  0.408248  0.588348  0.676123  0.801784  0.842701   \n",
       "38019  0.000000  0.223607  0.408248  0.588348  0.676123  0.801784  0.842701   \n",
       "38020  0.000005  0.223618  0.408258  0.588353  0.676132  0.801784  0.842707   \n",
       "38021  0.000005  0.223612  0.408253  0.588353  0.676128  0.801787  0.842701   \n",
       "38022  0.000000  0.223612  0.408253  0.588353  0.676128  0.801784  0.842704   \n",
       "\n",
       "          7         8         9      ...  38013  38014  38015  38016  38017  \\\n",
       "38018  0.878114  0.913812  0.916698  ...    1.0    1.0    1.0    1.0    1.0   \n",
       "38019  0.878114  0.913812  0.916698  ...    1.0    1.0    1.0    1.0    1.0   \n",
       "38020  0.878117  0.913821  0.916716  ...    1.0    1.0    1.0    1.0    1.0   \n",
       "38021  0.878114  0.913814  0.916698  ...    1.0    1.0    1.0    1.0    1.0   \n",
       "38022  0.878114  0.913817  0.916703  ...    1.0    1.0    1.0    1.0    1.0   \n",
       "\n",
       "       38018  38019  38020  38021  38022  \n",
       "38018    1.0    1.0    1.0    1.0    1.0  \n",
       "38019    1.0    1.0    1.0    1.0    1.0  \n",
       "38020    1.0    1.0    1.0    1.0    1.0  \n",
       "38021    1.0    1.0    1.0    1.0    1.0  \n",
       "38022    1.0    1.0    1.0    1.0    1.0  \n",
       "\n",
       "[5 rows x 38023 columns]"
      ]
     },
     "execution_count": 91,
     "metadata": {},
     "output_type": "execute_result"
    }
   ],
   "source": [
    "cosine_similarity_df.tail()"
   ]
  },
  {
   "cell_type": "markdown",
   "id": "5d3f0789",
   "metadata": {},
   "source": [
    "Now let's use the similarity matrix to generate N most similar items for recommendation."
   ]
  },
  {
   "cell_type": "code",
   "execution_count": 38,
   "id": "12a50465",
   "metadata": {},
   "outputs": [],
   "source": [
    "def recommend(game_idx, N = 5):\n",
    "    indices_of_top_N_recommendations = cosine_similarity_df.loc[game_idx].sort_values(ascending=False).index.tolist()[1:N + 1]\n",
    "    result = readable_data[\"name\"].loc[indices_of_top_N_recommendations].values.tolist()\n",
    "    return result\n",
    "    "
   ]
  },
  {
   "cell_type": "code",
   "execution_count": 39,
   "id": "e2dfd3a1",
   "metadata": {},
   "outputs": [
    {
     "data": {
      "text/plain": [
       "['DayZ', 'EVE Online', 'DOOM', 'TERA', 'BATTLETECH']"
      ]
     },
     "execution_count": 39,
     "metadata": {},
     "output_type": "execute_result"
    }
   ],
   "source": [
    "recommend(1)"
   ]
  },
  {
   "cell_type": "markdown",
   "id": "f494fab2",
   "metadata": {},
   "source": [
    "Now I will make recommendations for some randomly picked games and plot a few charts"
   ]
  },
  {
   "cell_type": "code",
   "execution_count": 57,
   "id": "f4e8082b",
   "metadata": {},
   "outputs": [],
   "source": [
    "import random\n",
    "\n",
    "def get_random_game_indices():\n",
    "    possible_indices = readable_data.index.tolist()\n",
    "    picks = []\n",
    "    for i in range(0, 4):\n",
    "        picks.append(possible_indices.pop(random.randrange(0, len(possible_indices))))\n",
    "    return picks"
   ]
  },
  {
   "cell_type": "code",
   "execution_count": 58,
   "id": "fcb5e936",
   "metadata": {},
   "outputs": [
    {
     "data": {
      "text/plain": [
       "[2515, 31686, 28977, 14554]"
      ]
     },
     "execution_count": 58,
     "metadata": {},
     "output_type": "execute_result"
    }
   ],
   "source": [
    "get_random_game_indices()"
   ]
  },
  {
   "cell_type": "code",
   "execution_count": 90,
   "id": "00faf1e9",
   "metadata": {},
   "outputs": [
    {
     "data": {
      "image/png": "[encoded data removed]",
      "text/plain": [
       "<Figure size 640x480 with 1 Axes>"
      ]
     },
     "metadata": {},
     "output_type": "display_data"
    },
    {
     "data": {
      "image/png": "[encoded data removed]",
      "text/plain": [
       "<Figure size 640x480 with 1 Axes>"
      ]
     },
     "metadata": {},
     "output_type": "display_data"
    },
    {
     "data": {
      "image/png": "[encoded data removed]",
      "text/plain": [
       "<Figure size 640x480 with 1 Axes>"
      ]
     },
     "metadata": {},
     "output_type": "display_data"
    },
    {
     "data": {
      "image/png": "[encoded data removed]",
      "text/plain": [
       "<Figure size 640x480 with 1 Axes>"
      ]
     },
     "metadata": {},
     "output_type": "display_data"
    }
   ],
   "source": [
    "games = get_random_game_indices()\n",
    "for game_idx in games:\n",
    "    x = np.arange(0, len(readable_data.index))\n",
    "    y = cosine_similarity_df.loc[game_idx].values\n",
    "        \n",
    "    plt.scatter(x, y, marker=\".\")\n",
    "    plt.title(\"Comparing to game: \" + str(readable_data[\"name\"].loc[game_idx]))\n",
    "    plt.show()\n",
    "\n"
   ]
  },
  {
   "cell_type": "code",
   "execution_count": 92,
   "id": "53e97110",
   "metadata": {},
   "outputs": [
    {
     "data": {
      "text/plain": [
       "['DayZ', 'EVE Online', 'DOOM', 'TERA', 'BATTLETECH']"
      ]
     },
     "execution_count": 92,
     "metadata": {},
     "output_type": "execute_result"
    }
   ],
   "source": [
    "recommend(1)"
   ]
  },
  {
   "cell_type": "code",
   "execution_count": 101,
   "id": "95550bfa",
   "metadata": {},
   "outputs": [
    {
     "data": {
      "text/plain": [
       "Unnamed: 0                                                                422\n",
       "name                                         Counter-Strike: Global Offensive\n",
       "release_date                                                     Aug 21, 2012\n",
       "developer                                     Valve,Hidden Path Entertainment\n",
       "publisher                                                         Valve,Valve\n",
       "popular_tags                FPS,Shooter,Multiplayer,Competitive,Action,Tea...\n",
       "game_details                Multi-player,Steam Achievements,Full controlle...\n",
       "languages                   English,Czech,Danish,Dutch,Finnish,French,Germ...\n",
       "achievements                                                            167.0\n",
       "genre                                                     Action,Free to Play\n",
       "game_description             About This Game Counter-Strike: Global Offens...\n",
       "mature_content               Mature Content Description  The developers de...\n",
       "minimum_requirements                                                      NaN\n",
       "recommended_requirements                                                  NaN\n",
       "original_price                                                   Free to Play\n",
       "discount_price                                                         $65.70\n",
       "recent_review_class                                             Very Positive\n",
       "recent_review_score                                                      86.0\n",
       "all_review_class                                                Very Positive\n",
       "all_review_score                                                         86.0\n",
       "Name: 377, dtype: object"
      ]
     },
     "execution_count": 101,
     "metadata": {},
     "output_type": "execute_result"
    }
   ],
   "source": [
    "readable_data.loc[377]"
   ]
  },
  {
   "cell_type": "code",
   "execution_count": 102,
   "id": "c34a5eff",
   "metadata": {},
   "outputs": [
    {
     "data": {
      "text/plain": [
       "['Splitgate: Arena Warfare',\n",
       " 'Insurgency',\n",
       " 'Left 4 Dead',\n",
       " 'Natural Selection 2',\n",
       " 'Call to Arms']"
      ]
     },
     "execution_count": 102,
     "metadata": {},
     "output_type": "execute_result"
    }
   ],
   "source": [
    "recommend(377)"
   ]
  },
  {
   "cell_type": "code",
   "execution_count": 111,
   "id": "47931dab",
   "metadata": {},
   "outputs": [
    {
     "data": {
      "text/plain": [
       "Unnamed: 0                                                                285\n",
       "name                                                              The Sims™ 3\n",
       "release_date                                                      Jun 2, 2009\n",
       "developer                                                     The Sims Studio\n",
       "publisher                                     Electronic Arts,Electronic Arts\n",
       "popular_tags                Simulation,Character Customization,Sandbox,Sin...\n",
       "game_details                                                    Single-player\n",
       "languages                   English,Czech,Danish,Dutch,Finnish,French,Germ...\n",
       "achievements                                                              NaN\n",
       "genre                                                              Simulation\n",
       "game_description             About This Game  Play with Life. Create the l...\n",
       "mature_content                                                            NaN\n",
       "minimum_requirements                                                      NaN\n",
       "recommended_requirements                                                  NaN\n",
       "original_price                                                         $19.99\n",
       "discount_price                                                         $49.56\n",
       "recent_review_class                                           Mostly Positive\n",
       "recent_review_score                                                      76.0\n",
       "all_review_class                                                Very Positive\n",
       "all_review_score                                                         81.0\n",
       "Name: 248, dtype: object"
      ]
     },
     "execution_count": 111,
     "metadata": {},
     "output_type": "execute_result"
    }
   ],
   "source": [
    "readable_data.loc[248]"
   ]
  },
  {
   "cell_type": "code",
   "execution_count": 112,
   "id": "7808e581",
   "metadata": {},
   "outputs": [
    {
     "data": {
      "text/plain": [
       "['Cities: Skylines',\n",
       " 'Farming Simulator 17',\n",
       " 'Youtubers Life',\n",
       " 'Game Dev Tycoon',\n",
       " 'Planet Zoo']"
      ]
     },
     "execution_count": 112,
     "metadata": {},
     "output_type": "execute_result"
    }
   ],
   "source": [
    "recommend(248)"
   ]
  },
  {
   "cell_type": "code",
   "execution_count": null,
   "id": "22c9a927",
   "metadata": {},
   "outputs": [],
   "source": []
  }
 ],
 "metadata": {
  "kernelspec": {
   "display_name": "Python 3 (ipykernel)",
   "language": "python",
   "name": "python3"
  },
  "language_info": {
   "codemirror_mode": {
    "name": "ipython",
    "version": 3
   },
   "file_extension": ".py",
   "mimetype": "text/x-python",
   "name": "python",
   "nbconvert_exporter": "python",
   "pygments_lexer": "ipython3",
   "version": "3.9.13"
  }
 },
 "nbformat": 4,
 "nbformat_minor": 5
}
